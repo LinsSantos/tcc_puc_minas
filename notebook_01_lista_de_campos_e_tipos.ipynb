{
 "cells": [
  {
   "cell_type": "code",
   "execution_count": 1,
   "id": "given-musical",
   "metadata": {},
   "outputs": [],
   "source": [
    "import pandas as pd\n",
    "pd.set_option(\"display.max_rows\", None, \"display.max_columns\", None)"
   ]
  },
  {
   "cell_type": "code",
   "execution_count": 2,
   "id": "generic-vienna",
   "metadata": {},
   "outputs": [],
   "source": [
    "# processamento e tratamento das bases"
   ]
  },
  {
   "cell_type": "code",
   "execution_count": 10,
   "id": "thirty-royalty",
   "metadata": {},
   "outputs": [
    {
     "name": "stdout",
     "output_type": "stream",
     "text": [
      "olist_customers_dataset.csv\n"
     ]
    },
    {
     "data": {
      "text/plain": [
       "customer_id                 object\n",
       "customer_unique_id          object\n",
       "customer_zip_code_prefix     int64\n",
       "customer_city               object\n",
       "customer_state              object\n",
       "dtype: object"
      ]
     },
     "metadata": {},
     "output_type": "display_data"
    },
    {
     "name": "stdout",
     "output_type": "stream",
     "text": [
      "99441  linhas 5  e colunas\n",
      "olist_orders_dataset.csv\n"
     ]
    },
    {
     "data": {
      "text/plain": [
       "order_id                         object\n",
       "customer_id                      object\n",
       "order_status                     object\n",
       "order_purchase_timestamp         object\n",
       "order_approved_at                object\n",
       "order_delivered_carrier_date     object\n",
       "order_delivered_customer_date    object\n",
       "order_estimated_delivery_date    object\n",
       "dtype: object"
      ]
     },
     "metadata": {},
     "output_type": "display_data"
    },
    {
     "name": "stdout",
     "output_type": "stream",
     "text": [
      "99441  linhas 8  e colunas\n",
      "olist_orders_items_dataset.csv\n"
     ]
    },
    {
     "data": {
      "text/plain": [
       "order_id                object\n",
       "order_item_id            int64\n",
       "product_id              object\n",
       "seller_id               object\n",
       "shipping_limit_date     object\n",
       "price                  float64\n",
       "freight_value          float64\n",
       "dtype: object"
      ]
     },
     "metadata": {},
     "output_type": "display_data"
    },
    {
     "name": "stdout",
     "output_type": "stream",
     "text": [
      "112650  linhas 7  e colunas\n",
      "olist_products_dataset.csv\n"
     ]
    },
    {
     "data": {
      "text/plain": [
       "product_id                     object\n",
       "product_category_name          object\n",
       "product_name_lenght           float64\n",
       "product_description_lenght    float64\n",
       "product_photos_qty            float64\n",
       "product_weight_g              float64\n",
       "product_length_cm             float64\n",
       "product_height_cm             float64\n",
       "product_width_cm              float64\n",
       "dtype: object"
      ]
     },
     "metadata": {},
     "output_type": "display_data"
    },
    {
     "name": "stdout",
     "output_type": "stream",
     "text": [
      "32951  linhas 9  e colunas\n",
      "olist_orders_payments_dataset.csv\n"
     ]
    },
    {
     "data": {
      "text/plain": [
       "order_id                 object\n",
       "payment_sequential        int64\n",
       "payment_type             object\n",
       "payment_installments      int64\n",
       "payment_value           float64\n",
       "dtype: object"
      ]
     },
     "metadata": {},
     "output_type": "display_data"
    },
    {
     "name": "stdout",
     "output_type": "stream",
     "text": [
      "103886  linhas 5  e colunas\n",
      "olist_orders_reviews_dataset.csv\n"
     ]
    },
    {
     "data": {
      "text/plain": [
       "review_id                  object\n",
       "order_id                   object\n",
       "review_score                int64\n",
       "review_comment_title       object\n",
       "review_comment_message     object\n",
       "review_creation_date       object\n",
       "review_answer_timestamp    object\n",
       "dtype: object"
      ]
     },
     "metadata": {},
     "output_type": "display_data"
    },
    {
     "name": "stdout",
     "output_type": "stream",
     "text": [
      "100000  linhas 7  e colunas\n",
      "olist_sellers_dataset.csv\n"
     ]
    },
    {
     "data": {
      "text/plain": [
       "seller_id                 object\n",
       "seller_zip_code_prefix     int64\n",
       "seller_city               object\n",
       "seller_state              object\n",
       "dtype: object"
      ]
     },
     "metadata": {},
     "output_type": "display_data"
    },
    {
     "name": "stdout",
     "output_type": "stream",
     "text": [
      "3095  linhas 4  e colunas\n",
      "product_category_name_translation.csv\n"
     ]
    },
    {
     "data": {
      "text/plain": [
       "product_category_name            object\n",
       "product_category_name_english    object\n",
       "dtype: object"
      ]
     },
     "metadata": {},
     "output_type": "display_data"
    },
    {
     "name": "stdout",
     "output_type": "stream",
     "text": [
      "71  linhas 2  e colunas\n"
     ]
    }
   ],
   "source": [
    "# listando os tipos dos campos da base 1\n",
    "\n",
    "#1\n",
    "path_customers = 'd:/tcc_puc_minas/brazilian_ecomerce_public_dataset_by_olist/olist_customers_dataset.csv'\n",
    "\n",
    "#2\n",
    "path_orders = 'd:/tcc_puc_minas/brazilian_ecomerce_public_dataset_by_olist/olist_orders_dataset.csv'\n",
    "\n",
    "#3\n",
    "path_order_items = 'd:/tcc_puc_minas/brazilian_ecomerce_public_dataset_by_olist/olist_orders_items_dataset.csv'\n",
    "\n",
    "#4\n",
    "path_products_specs = 'd:/tcc_puc_minas/brazilian_ecomerce_public_dataset_by_olist/olist_products_dataset.csv'\n",
    "\n",
    "#5\n",
    "path_order_payment = 'd:/tcc_puc_minas/brazilian_ecomerce_public_dataset_by_olist/olist_orders_payments_dataset.csv'\n",
    "\n",
    "#6\n",
    "path_order_review = 'd:/tcc_puc_minas/brazilian_ecomerce_public_dataset_by_olist/olist_orders_reviews_dataset.csv'\n",
    "\n",
    "#7\n",
    "path_sellers = 'd:/tcc_puc_minas/brazilian_ecomerce_public_dataset_by_olist/olist_sellers_dataset.csv'\n",
    "\n",
    "#8\n",
    "path_product_translation = 'd:/tcc_puc_minas/brazilian_ecomerce_public_dataset_by_olist/product_category_name_translation.csv'\n",
    "\n",
    "list_path_base1 = [path_customers,path_orders,path_order_items,path_products_specs,path_order_payment,path_order_review,path_sellers,path_product_translation]\n",
    "\n",
    "# lista dos campos e dos tipos dos campos de cada arquivo csv que compoem a base 1\n",
    "\n",
    "for path in list_path_base1:\n",
    "    print(path.split('/')[-1])\n",
    "    df = pd.read_csv(path)\n",
    "    display(df.dtypes)\n",
    "    print(df.shape[0],' linhas',df.shape[1],' e colunas')\n",
    "#     df_dtypes = pd.DataFrame(df.dtypes)\n",
    "#     display(df_dtypes)"
   ]
  },
  {
   "cell_type": "code",
   "execution_count": 14,
   "id": "central-classroom",
   "metadata": {},
   "outputs": [
    {
     "data": {
      "text/plain": [
       "Ano                                                                                                                                                       int64\n",
       "Código da Grande Região                                                                                                                                   int64\n",
       "Nome da Grande Região                                                                                                                                    object\n",
       "Código da Unidade da Federação                                                                                                                            int64\n",
       "Sigla da Unidade da Federação                                                                                                                            object\n",
       "Nome da Unidade da Federação                                                                                                                             object\n",
       "Código do Município                                                                                                                                       int64\n",
       "Nome do Município                                                                                                                                        object\n",
       "Região Metropolitana                                                                                                                                     object\n",
       "Código da Mesorregião                                                                                                                                     int64\n",
       "Nome da Mesorregião                                                                                                                                      object\n",
       "Código da Microrregião                                                                                                                                    int64\n",
       "Nome da Microrregião                                                                                                                                     object\n",
       "Código da Região Geográfica Imediata                                                                                                                      int64\n",
       "Nome da Região Geográfica Imediata                                                                                                                       object\n",
       "Município da Região Geográfica Imediata                                                                                                                  object\n",
       "Código da Região Geográfica Intermediária                                                                                                                 int64\n",
       "Nome da Região Geográfica Intermediária                                                                                                                  object\n",
       "Município da Região Geográfica Intermediária                                                                                                             object\n",
       "Código Concentração Urbana                                                                                                                              float64\n",
       "Nome Concentração Urbana                                                                                                                                 object\n",
       "Tipo Concentração Urbana                                                                                                                                 object\n",
       "Código Arranjo Populacional                                                                                                                             float64\n",
       "Nome Arranjo Populacional                                                                                                                                object\n",
       "Hierarquia Urbana                                                                                                                                        object\n",
       "Hierarquia Urbana (principais categorias)                                                                                                                object\n",
       "Código da Região Rural                                                                                                                                    int64\n",
       "Nome da Região Rural                                                                                                                                     object\n",
       "Região rural (segundo classificação do núcleo)                                                                                                           object\n",
       "Amazônia Legal                                                                                                                                           object\n",
       "Semiárido                                                                                                                                                object\n",
       "Cidade-Região de São Paulo                                                                                                                               object\n",
       "Valor adicionado bruto da Agropecuária, \\na preços correntes\\n(R$ 1.000)                                                                                float64\n",
       "Valor adicionado bruto da Indústria,\\na preços correntes\\n(R$ 1.000)                                                                                    float64\n",
       "Valor adicionado bruto dos Serviços,\\na preços correntes \\n- exceto Administração, defesa, educação e saúde públicas e seguridade social\\n(R$ 1.000)    float64\n",
       "Valor adicionado bruto da Administração, defesa, educação e saúde públicas e seguridade social, \\na preços correntes\\n(R$ 1.000)                        float64\n",
       "Valor adicionado bruto total, \\na preços correntes\\n(R$ 1.000)                                                                                          float64\n",
       "Impostos, líquidos de subsídios, sobre produtos, \\na preços correntes\\n(R$ 1.000)                                                                       float64\n",
       "Produto Interno Bruto, \\na preços correntes\\n(R$ 1.000)                                                                                                 float64\n",
       "Produto Interno Bruto per capita, \\na preços correntes\\n(R$ 1,00)                                                                                       float64\n",
       "Atividade com maior valor adicionado bruto                                                                                                               object\n",
       "Atividade com segundo maior valor adicionado bruto                                                                                                       object\n",
       "Atividade com terceiro maior valor adicionado bruto                                                                                                      object\n",
       "dtype: object"
      ]
     },
     "metadata": {},
     "output_type": "display_data"
    },
    {
     "name": "stdout",
     "output_type": "stream",
     "text": [
      "50115  linhas 43  e colunas\n"
     ]
    }
   ],
   "source": [
    "# listando os arquivos da base 2\n",
    "\n",
    "# path_ibge = 'd:/tcc_puc_minas/ibge/pib_mun_2018.xls'\n",
    "\n",
    "path_ibge = 'd:/tcc_puc_minas/ibge/PIB dos Municípios - base de dados 2010-2018.xls'\n",
    "\n",
    "df_ibge = pd.read_excel(path_ibge)\n",
    "\n",
    "# display(df_ibge)\n",
    "\n",
    "display(df_ibge.dtypes)\n",
    "print(df_ibge.shape[0],' linhas',df_ibge.shape[1],' e colunas')"
   ]
  }
 ],
 "metadata": {
  "kernelspec": {
   "display_name": "Python 3",
   "language": "python",
   "name": "python3"
  },
  "language_info": {
   "codemirror_mode": {
    "name": "ipython",
    "version": 3
   },
   "file_extension": ".py",
   "mimetype": "text/x-python",
   "name": "python",
   "nbconvert_exporter": "python",
   "pygments_lexer": "ipython3",
   "version": "3.8.8"
  }
 },
 "nbformat": 4,
 "nbformat_minor": 5
}
