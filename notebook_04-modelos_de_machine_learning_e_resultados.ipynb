{
 "cells": [
  {
   "cell_type": "code",
   "execution_count": 2,
   "id": "sublime-pitch",
   "metadata": {},
   "outputs": [],
   "source": [
    "import pandas as pd\n",
    "import numpy as np\n",
    "import matplotlib.pyplot as plt\n",
    "import seaborn as sns\n",
    "from sklearn import preprocessing\n",
    "from sklearn.model_selection import train_test_split\n",
    "from imblearn.over_sampling import SMOTE\n",
    "from sklearn.tree import DecisionTreeClassifier\n",
    "from sklearn.metrics import confusion_matrix\n",
    "from sklearn.metrics import plot_confusion_matrix\n",
    "from sklearn.metrics import classification_report\n",
    "from sklearn.metrics import accuracy_score\n",
    "from sklearn.ensemble import RandomForestClassifier"
   ]
  },
  {
   "cell_type": "markdown",
   "id": "covered-match",
   "metadata": {},
   "source": [
    "## importação da base"
   ]
  },
  {
   "cell_type": "code",
   "execution_count": 3,
   "id": "patient-richardson",
   "metadata": {},
   "outputs": [],
   "source": [
    "path_csv_ml = 'd:/tcc_puc_minas/dataframe_final/df_ml.csv'\n",
    "\n",
    "df = pd.read_csv(path_csv_ml,sep='|')"
   ]
  },
  {
   "cell_type": "code",
   "execution_count": 4,
   "id": "deadly-wonder",
   "metadata": {},
   "outputs": [
    {
     "data": {
      "text/html": [
       "<div>\n",
       "<style scoped>\n",
       "    .dataframe tbody tr th:only-of-type {\n",
       "        vertical-align: middle;\n",
       "    }\n",
       "\n",
       "    .dataframe tbody tr th {\n",
       "        vertical-align: top;\n",
       "    }\n",
       "\n",
       "    .dataframe thead th {\n",
       "        text-align: right;\n",
       "    }\n",
       "</style>\n",
       "<table border=\"1\" class=\"dataframe\">\n",
       "  <thead>\n",
       "    <tr style=\"text-align: right;\">\n",
       "      <th></th>\n",
       "      <th>customer_city</th>\n",
       "      <th>customer_state</th>\n",
       "      <th>pib_mun_customer</th>\n",
       "      <th>atividade_mun_customer</th>\n",
       "      <th>seller_city</th>\n",
       "      <th>seller_state</th>\n",
       "      <th>pib_mun_seller</th>\n",
       "      <th>atividade_mun_seller</th>\n",
       "      <th>product_category_name</th>\n",
       "      <th>product_photos_qty</th>\n",
       "      <th>payment_type</th>\n",
       "      <th>dias_entrega</th>\n",
       "      <th>price</th>\n",
       "      <th>freight_value</th>\n",
       "      <th>review_score</th>\n",
       "    </tr>\n",
       "  </thead>\n",
       "  <tbody>\n",
       "    <tr>\n",
       "      <th>0</th>\n",
       "      <td>franca</td>\n",
       "      <td>SP</td>\n",
       "      <td>9.992981e+06</td>\n",
       "      <td>demais servicos</td>\n",
       "      <td>itaquaquecetuba</td>\n",
       "      <td>SP</td>\n",
       "      <td>7.212560e+06</td>\n",
       "      <td>demais servicos</td>\n",
       "      <td>moveis_escritorio</td>\n",
       "      <td>1.0</td>\n",
       "      <td>credit_card</td>\n",
       "      <td>8</td>\n",
       "      <td>124.99</td>\n",
       "      <td>21.88</td>\n",
       "      <td>1</td>\n",
       "    </tr>\n",
       "    <tr>\n",
       "      <th>1</th>\n",
       "      <td>sao bernardo do campo</td>\n",
       "      <td>SP</td>\n",
       "      <td>5.056869e+07</td>\n",
       "      <td>demais servicos</td>\n",
       "      <td>itajai</td>\n",
       "      <td>SC</td>\n",
       "      <td>2.541343e+07</td>\n",
       "      <td>comercio e reparacao de veiculos automotores e...</td>\n",
       "      <td>utilidades_domesticas</td>\n",
       "      <td>3.0</td>\n",
       "      <td>credit_card</td>\n",
       "      <td>16</td>\n",
       "      <td>289.00</td>\n",
       "      <td>46.48</td>\n",
       "      <td>1</td>\n",
       "    </tr>\n",
       "    <tr>\n",
       "      <th>2</th>\n",
       "      <td>sao paulo</td>\n",
       "      <td>SP</td>\n",
       "      <td>7.146834e+08</td>\n",
       "      <td>demais servicos</td>\n",
       "      <td>itaquaquecetuba</td>\n",
       "      <td>SP</td>\n",
       "      <td>7.212560e+06</td>\n",
       "      <td>demais servicos</td>\n",
       "      <td>moveis_escritorio</td>\n",
       "      <td>1.0</td>\n",
       "      <td>credit_card</td>\n",
       "      <td>26</td>\n",
       "      <td>139.94</td>\n",
       "      <td>17.79</td>\n",
       "      <td>1</td>\n",
       "    </tr>\n",
       "    <tr>\n",
       "      <th>3</th>\n",
       "      <td>mogi das cruzes</td>\n",
       "      <td>SP</td>\n",
       "      <td>1.538650e+07</td>\n",
       "      <td>demais servicos</td>\n",
       "      <td>itaquaquecetuba</td>\n",
       "      <td>SP</td>\n",
       "      <td>7.212560e+06</td>\n",
       "      <td>demais servicos</td>\n",
       "      <td>moveis_escritorio</td>\n",
       "      <td>1.0</td>\n",
       "      <td>credit_card</td>\n",
       "      <td>14</td>\n",
       "      <td>149.94</td>\n",
       "      <td>23.36</td>\n",
       "      <td>1</td>\n",
       "    </tr>\n",
       "    <tr>\n",
       "      <th>4</th>\n",
       "      <td>campinas</td>\n",
       "      <td>SP</td>\n",
       "      <td>6.139726e+07</td>\n",
       "      <td>demais servicos</td>\n",
       "      <td>ibitinga</td>\n",
       "      <td>SP</td>\n",
       "      <td>1.523757e+06</td>\n",
       "      <td>demais servicos</td>\n",
       "      <td>casa_conforto</td>\n",
       "      <td>1.0</td>\n",
       "      <td>credit_card</td>\n",
       "      <td>11</td>\n",
       "      <td>230.00</td>\n",
       "      <td>22.25</td>\n",
       "      <td>1</td>\n",
       "    </tr>\n",
       "    <tr>\n",
       "      <th>...</th>\n",
       "      <td>...</td>\n",
       "      <td>...</td>\n",
       "      <td>...</td>\n",
       "      <td>...</td>\n",
       "      <td>...</td>\n",
       "      <td>...</td>\n",
       "      <td>...</td>\n",
       "      <td>...</td>\n",
       "      <td>...</td>\n",
       "      <td>...</td>\n",
       "      <td>...</td>\n",
       "      <td>...</td>\n",
       "      <td>...</td>\n",
       "      <td>...</td>\n",
       "      <td>...</td>\n",
       "    </tr>\n",
       "    <tr>\n",
       "      <th>104583</th>\n",
       "      <td>sao paulo</td>\n",
       "      <td>SP</td>\n",
       "      <td>7.146834e+08</td>\n",
       "      <td>demais servicos</td>\n",
       "      <td>garca</td>\n",
       "      <td>SP</td>\n",
       "      <td>1.192416e+06</td>\n",
       "      <td>demais servicos</td>\n",
       "      <td>livros_interesse_geral</td>\n",
       "      <td>2.0</td>\n",
       "      <td>credit_card</td>\n",
       "      <td>6</td>\n",
       "      <td>74.90</td>\n",
       "      <td>13.88</td>\n",
       "      <td>1</td>\n",
       "    </tr>\n",
       "    <tr>\n",
       "      <th>104584</th>\n",
       "      <td>taboao da serra</td>\n",
       "      <td>SP</td>\n",
       "      <td>8.378881e+06</td>\n",
       "      <td>demais servicos</td>\n",
       "      <td>araraquara</td>\n",
       "      <td>SP</td>\n",
       "      <td>9.409114e+06</td>\n",
       "      <td>demais servicos</td>\n",
       "      <td>esporte_lazer</td>\n",
       "      <td>1.0</td>\n",
       "      <td>credit_card</td>\n",
       "      <td>7</td>\n",
       "      <td>114.90</td>\n",
       "      <td>14.16</td>\n",
       "      <td>1</td>\n",
       "    </tr>\n",
       "    <tr>\n",
       "      <th>104585</th>\n",
       "      <td>fortaleza</td>\n",
       "      <td>CE</td>\n",
       "      <td>6.702409e+07</td>\n",
       "      <td>demais servicos</td>\n",
       "      <td>sao paulo</td>\n",
       "      <td>SP</td>\n",
       "      <td>7.146834e+08</td>\n",
       "      <td>demais servicos</td>\n",
       "      <td>beleza_saude</td>\n",
       "      <td>1.0</td>\n",
       "      <td>credit_card</td>\n",
       "      <td>30</td>\n",
       "      <td>37.00</td>\n",
       "      <td>19.04</td>\n",
       "      <td>0</td>\n",
       "    </tr>\n",
       "    <tr>\n",
       "      <th>104586</th>\n",
       "      <td>canoas</td>\n",
       "      <td>RS</td>\n",
       "      <td>1.917761e+07</td>\n",
       "      <td>demais servicos</td>\n",
       "      <td>guariba</td>\n",
       "      <td>SP</td>\n",
       "      <td>8.998065e+05</td>\n",
       "      <td>demais servicos</td>\n",
       "      <td>relogios_presentes</td>\n",
       "      <td>1.0</td>\n",
       "      <td>credit_card</td>\n",
       "      <td>12</td>\n",
       "      <td>689.00</td>\n",
       "      <td>22.07</td>\n",
       "      <td>1</td>\n",
       "    </tr>\n",
       "    <tr>\n",
       "      <th>104587</th>\n",
       "      <td>cotia</td>\n",
       "      <td>SP</td>\n",
       "      <td>1.253457e+07</td>\n",
       "      <td>demais servicos</td>\n",
       "      <td>sao paulo</td>\n",
       "      <td>SP</td>\n",
       "      <td>7.146834e+08</td>\n",
       "      <td>demais servicos</td>\n",
       "      <td>perfumaria</td>\n",
       "      <td>1.0</td>\n",
       "      <td>credit_card</td>\n",
       "      <td>7</td>\n",
       "      <td>13.99</td>\n",
       "      <td>7.78</td>\n",
       "      <td>1</td>\n",
       "    </tr>\n",
       "  </tbody>\n",
       "</table>\n",
       "<p>104588 rows × 15 columns</p>\n",
       "</div>"
      ],
      "text/plain": [
       "                customer_city customer_state  pib_mun_customer  \\\n",
       "0                      franca             SP      9.992981e+06   \n",
       "1       sao bernardo do campo             SP      5.056869e+07   \n",
       "2                   sao paulo             SP      7.146834e+08   \n",
       "3             mogi das cruzes             SP      1.538650e+07   \n",
       "4                    campinas             SP      6.139726e+07   \n",
       "...                       ...            ...               ...   \n",
       "104583              sao paulo             SP      7.146834e+08   \n",
       "104584        taboao da serra             SP      8.378881e+06   \n",
       "104585              fortaleza             CE      6.702409e+07   \n",
       "104586                 canoas             RS      1.917761e+07   \n",
       "104587                  cotia             SP      1.253457e+07   \n",
       "\n",
       "       atividade_mun_customer      seller_city seller_state  pib_mun_seller  \\\n",
       "0             demais servicos  itaquaquecetuba           SP    7.212560e+06   \n",
       "1             demais servicos           itajai           SC    2.541343e+07   \n",
       "2             demais servicos  itaquaquecetuba           SP    7.212560e+06   \n",
       "3             demais servicos  itaquaquecetuba           SP    7.212560e+06   \n",
       "4             demais servicos         ibitinga           SP    1.523757e+06   \n",
       "...                       ...              ...          ...             ...   \n",
       "104583        demais servicos            garca           SP    1.192416e+06   \n",
       "104584        demais servicos       araraquara           SP    9.409114e+06   \n",
       "104585        demais servicos        sao paulo           SP    7.146834e+08   \n",
       "104586        demais servicos          guariba           SP    8.998065e+05   \n",
       "104587        demais servicos        sao paulo           SP    7.146834e+08   \n",
       "\n",
       "                                     atividade_mun_seller  \\\n",
       "0                                         demais servicos   \n",
       "1       comercio e reparacao de veiculos automotores e...   \n",
       "2                                         demais servicos   \n",
       "3                                         demais servicos   \n",
       "4                                         demais servicos   \n",
       "...                                                   ...   \n",
       "104583                                    demais servicos   \n",
       "104584                                    demais servicos   \n",
       "104585                                    demais servicos   \n",
       "104586                                    demais servicos   \n",
       "104587                                    demais servicos   \n",
       "\n",
       "         product_category_name  product_photos_qty payment_type  dias_entrega  \\\n",
       "0            moveis_escritorio                 1.0  credit_card             8   \n",
       "1        utilidades_domesticas                 3.0  credit_card            16   \n",
       "2            moveis_escritorio                 1.0  credit_card            26   \n",
       "3            moveis_escritorio                 1.0  credit_card            14   \n",
       "4                casa_conforto                 1.0  credit_card            11   \n",
       "...                        ...                 ...          ...           ...   \n",
       "104583  livros_interesse_geral                 2.0  credit_card             6   \n",
       "104584           esporte_lazer                 1.0  credit_card             7   \n",
       "104585            beleza_saude                 1.0  credit_card            30   \n",
       "104586      relogios_presentes                 1.0  credit_card            12   \n",
       "104587              perfumaria                 1.0  credit_card             7   \n",
       "\n",
       "         price  freight_value  review_score  \n",
       "0       124.99          21.88             1  \n",
       "1       289.00          46.48             1  \n",
       "2       139.94          17.79             1  \n",
       "3       149.94          23.36             1  \n",
       "4       230.00          22.25             1  \n",
       "...        ...            ...           ...  \n",
       "104583   74.90          13.88             1  \n",
       "104584  114.90          14.16             1  \n",
       "104585   37.00          19.04             0  \n",
       "104586  689.00          22.07             1  \n",
       "104587   13.99           7.78             1  \n",
       "\n",
       "[104588 rows x 15 columns]"
      ]
     },
     "metadata": {},
     "output_type": "display_data"
    },
    {
     "data": {
      "text/plain": [
       "customer_city              object\n",
       "customer_state             object\n",
       "pib_mun_customer          float64\n",
       "atividade_mun_customer     object\n",
       "seller_city                object\n",
       "seller_state               object\n",
       "pib_mun_seller            float64\n",
       "atividade_mun_seller       object\n",
       "product_category_name      object\n",
       "product_photos_qty        float64\n",
       "payment_type               object\n",
       "dias_entrega                int64\n",
       "price                     float64\n",
       "freight_value             float64\n",
       "review_score                int64\n",
       "dtype: object"
      ]
     },
     "metadata": {},
     "output_type": "display_data"
    }
   ],
   "source": [
    "display(df)\n",
    "display(df.dtypes)"
   ]
  },
  {
   "cell_type": "markdown",
   "id": "three-studio",
   "metadata": {},
   "source": [
    "## transformação das variáveis categóricas para numéricas utilizando o método LabelEncoder()"
   ]
  },
  {
   "cell_type": "code",
   "execution_count": 5,
   "id": "iraqi-dressing",
   "metadata": {},
   "outputs": [],
   "source": [
    "# LableEncoder para codificar as variaveis categoricas como numeros\n",
    "\n",
    "encoder = preprocessing.LabelEncoder()"
   ]
  },
  {
   "cell_type": "code",
   "execution_count": 6,
   "id": "younger-yugoslavia",
   "metadata": {},
   "outputs": [],
   "source": [
    "for col in list(df.columns):\n",
    "    if df[col].dtype == 'object':\n",
    "        df[col] = encoder.fit_transform(df[col])"
   ]
  },
  {
   "cell_type": "code",
   "execution_count": 7,
   "id": "pregnant-bench",
   "metadata": {},
   "outputs": [
    {
     "data": {
      "text/plain": [
       "customer_city               int32\n",
       "customer_state              int32\n",
       "pib_mun_customer          float64\n",
       "atividade_mun_customer      int32\n",
       "seller_city                 int32\n",
       "seller_state                int32\n",
       "pib_mun_seller            float64\n",
       "atividade_mun_seller        int32\n",
       "product_category_name       int32\n",
       "product_photos_qty        float64\n",
       "payment_type                int32\n",
       "dias_entrega                int64\n",
       "price                     float64\n",
       "freight_value             float64\n",
       "review_score                int64\n",
       "dtype: object"
      ]
     },
     "metadata": {},
     "output_type": "display_data"
    }
   ],
   "source": [
    "display(df.dtypes)"
   ]
  },
  {
   "cell_type": "markdown",
   "id": "polar-pricing",
   "metadata": {},
   "source": [
    "## Separação da variáveis preditoras e da variável de resultado"
   ]
  },
  {
   "cell_type": "code",
   "execution_count": 8,
   "id": "editorial-episode",
   "metadata": {},
   "outputs": [
    {
     "name": "stdout",
     "output_type": "stream",
     "text": [
      "0         1\n",
      "1         1\n",
      "2         1\n",
      "3         1\n",
      "4         1\n",
      "         ..\n",
      "104583    1\n",
      "104584    1\n",
      "104585    0\n",
      "104586    1\n",
      "104587    1\n",
      "Name: review_score, Length: 104588, dtype: int64\n"
     ]
    }
   ],
   "source": [
    "# variavel resultado\n",
    "\n",
    "y = df['review_score'].copy()\n",
    "\n",
    "print(y)"
   ]
  },
  {
   "cell_type": "code",
   "execution_count": 9,
   "id": "preliminary-anthropology",
   "metadata": {},
   "outputs": [
    {
     "data": {
      "text/html": [
       "<div>\n",
       "<style scoped>\n",
       "    .dataframe tbody tr th:only-of-type {\n",
       "        vertical-align: middle;\n",
       "    }\n",
       "\n",
       "    .dataframe tbody tr th {\n",
       "        vertical-align: top;\n",
       "    }\n",
       "\n",
       "    .dataframe thead th {\n",
       "        text-align: right;\n",
       "    }\n",
       "</style>\n",
       "<table border=\"1\" class=\"dataframe\">\n",
       "  <thead>\n",
       "    <tr style=\"text-align: right;\">\n",
       "      <th></th>\n",
       "      <th>customer_city</th>\n",
       "      <th>customer_state</th>\n",
       "      <th>pib_mun_customer</th>\n",
       "      <th>atividade_mun_customer</th>\n",
       "      <th>seller_city</th>\n",
       "      <th>seller_state</th>\n",
       "      <th>pib_mun_seller</th>\n",
       "      <th>atividade_mun_seller</th>\n",
       "      <th>product_category_name</th>\n",
       "      <th>product_photos_qty</th>\n",
       "      <th>payment_type</th>\n",
       "      <th>dias_entrega</th>\n",
       "      <th>price</th>\n",
       "      <th>freight_value</th>\n",
       "    </tr>\n",
       "  </thead>\n",
       "  <tbody>\n",
       "    <tr>\n",
       "      <th>0</th>\n",
       "      <td>1266</td>\n",
       "      <td>25</td>\n",
       "      <td>9.992981e+06</td>\n",
       "      <td>4</td>\n",
       "      <td>226</td>\n",
       "      <td>21</td>\n",
       "      <td>7.212560e+06</td>\n",
       "      <td>3</td>\n",
       "      <td>55</td>\n",
       "      <td>1.0</td>\n",
       "      <td>1</td>\n",
       "      <td>8</td>\n",
       "      <td>124.99</td>\n",
       "      <td>21.88</td>\n",
       "    </tr>\n",
       "    <tr>\n",
       "      <th>1</th>\n",
       "      <td>3148</td>\n",
       "      <td>25</td>\n",
       "      <td>5.056869e+07</td>\n",
       "      <td>4</td>\n",
       "      <td>217</td>\n",
       "      <td>19</td>\n",
       "      <td>2.541343e+07</td>\n",
       "      <td>2</td>\n",
       "      <td>72</td>\n",
       "      <td>3.0</td>\n",
       "      <td>1</td>\n",
       "      <td>16</td>\n",
       "      <td>289.00</td>\n",
       "      <td>46.48</td>\n",
       "    </tr>\n",
       "    <tr>\n",
       "      <th>2</th>\n",
       "      <td>3300</td>\n",
       "      <td>25</td>\n",
       "      <td>7.146834e+08</td>\n",
       "      <td>4</td>\n",
       "      <td>226</td>\n",
       "      <td>21</td>\n",
       "      <td>7.212560e+06</td>\n",
       "      <td>3</td>\n",
       "      <td>55</td>\n",
       "      <td>1.0</td>\n",
       "      <td>1</td>\n",
       "      <td>26</td>\n",
       "      <td>139.94</td>\n",
       "      <td>17.79</td>\n",
       "    </tr>\n",
       "    <tr>\n",
       "      <th>3</th>\n",
       "      <td>2162</td>\n",
       "      <td>25</td>\n",
       "      <td>1.538650e+07</td>\n",
       "      <td>4</td>\n",
       "      <td>226</td>\n",
       "      <td>21</td>\n",
       "      <td>7.212560e+06</td>\n",
       "      <td>3</td>\n",
       "      <td>55</td>\n",
       "      <td>1.0</td>\n",
       "      <td>1</td>\n",
       "      <td>14</td>\n",
       "      <td>149.94</td>\n",
       "      <td>23.36</td>\n",
       "    </tr>\n",
       "    <tr>\n",
       "      <th>4</th>\n",
       "      <td>643</td>\n",
       "      <td>25</td>\n",
       "      <td>6.139726e+07</td>\n",
       "      <td>4</td>\n",
       "      <td>196</td>\n",
       "      <td>21</td>\n",
       "      <td>1.523757e+06</td>\n",
       "      <td>3</td>\n",
       "      <td>14</td>\n",
       "      <td>1.0</td>\n",
       "      <td>1</td>\n",
       "      <td>11</td>\n",
       "      <td>230.00</td>\n",
       "      <td>22.25</td>\n",
       "    </tr>\n",
       "    <tr>\n",
       "      <th>...</th>\n",
       "      <td>...</td>\n",
       "      <td>...</td>\n",
       "      <td>...</td>\n",
       "      <td>...</td>\n",
       "      <td>...</td>\n",
       "      <td>...</td>\n",
       "      <td>...</td>\n",
       "      <td>...</td>\n",
       "      <td>...</td>\n",
       "      <td>...</td>\n",
       "      <td>...</td>\n",
       "      <td>...</td>\n",
       "      <td>...</td>\n",
       "      <td>...</td>\n",
       "    </tr>\n",
       "    <tr>\n",
       "      <th>104583</th>\n",
       "      <td>3300</td>\n",
       "      <td>25</td>\n",
       "      <td>7.146834e+08</td>\n",
       "      <td>4</td>\n",
       "      <td>175</td>\n",
       "      <td>21</td>\n",
       "      <td>1.192416e+06</td>\n",
       "      <td>3</td>\n",
       "      <td>48</td>\n",
       "      <td>2.0</td>\n",
       "      <td>1</td>\n",
       "      <td>6</td>\n",
       "      <td>74.90</td>\n",
       "      <td>13.88</td>\n",
       "    </tr>\n",
       "    <tr>\n",
       "      <th>104584</th>\n",
       "      <td>3467</td>\n",
       "      <td>25</td>\n",
       "      <td>8.378881e+06</td>\n",
       "      <td>4</td>\n",
       "      <td>21</td>\n",
       "      <td>21</td>\n",
       "      <td>9.409114e+06</td>\n",
       "      <td>3</td>\n",
       "      <td>32</td>\n",
       "      <td>1.0</td>\n",
       "      <td>1</td>\n",
       "      <td>7</td>\n",
       "      <td>114.90</td>\n",
       "      <td>14.16</td>\n",
       "    </tr>\n",
       "    <tr>\n",
       "      <th>104585</th>\n",
       "      <td>1259</td>\n",
       "      <td>5</td>\n",
       "      <td>6.702409e+07</td>\n",
       "      <td>4</td>\n",
       "      <td>439</td>\n",
       "      <td>21</td>\n",
       "      <td>7.146834e+08</td>\n",
       "      <td>3</td>\n",
       "      <td>11</td>\n",
       "      <td>1.0</td>\n",
       "      <td>1</td>\n",
       "      <td>30</td>\n",
       "      <td>37.00</td>\n",
       "      <td>19.04</td>\n",
       "    </tr>\n",
       "    <tr>\n",
       "      <th>104586</th>\n",
       "      <td>705</td>\n",
       "      <td>22</td>\n",
       "      <td>1.917761e+07</td>\n",
       "      <td>4</td>\n",
       "      <td>188</td>\n",
       "      <td>21</td>\n",
       "      <td>8.998065e+05</td>\n",
       "      <td>3</td>\n",
       "      <td>66</td>\n",
       "      <td>1.0</td>\n",
       "      <td>1</td>\n",
       "      <td>12</td>\n",
       "      <td>689.00</td>\n",
       "      <td>22.07</td>\n",
       "    </tr>\n",
       "    <tr>\n",
       "      <th>104587</th>\n",
       "      <td>1003</td>\n",
       "      <td>25</td>\n",
       "      <td>1.253457e+07</td>\n",
       "      <td>4</td>\n",
       "      <td>439</td>\n",
       "      <td>21</td>\n",
       "      <td>7.146834e+08</td>\n",
       "      <td>3</td>\n",
       "      <td>62</td>\n",
       "      <td>1.0</td>\n",
       "      <td>1</td>\n",
       "      <td>7</td>\n",
       "      <td>13.99</td>\n",
       "      <td>7.78</td>\n",
       "    </tr>\n",
       "  </tbody>\n",
       "</table>\n",
       "<p>104588 rows × 14 columns</p>\n",
       "</div>"
      ],
      "text/plain": [
       "        customer_city  customer_state  pib_mun_customer  \\\n",
       "0                1266              25      9.992981e+06   \n",
       "1                3148              25      5.056869e+07   \n",
       "2                3300              25      7.146834e+08   \n",
       "3                2162              25      1.538650e+07   \n",
       "4                 643              25      6.139726e+07   \n",
       "...               ...             ...               ...   \n",
       "104583           3300              25      7.146834e+08   \n",
       "104584           3467              25      8.378881e+06   \n",
       "104585           1259               5      6.702409e+07   \n",
       "104586            705              22      1.917761e+07   \n",
       "104587           1003              25      1.253457e+07   \n",
       "\n",
       "        atividade_mun_customer  seller_city  seller_state  pib_mun_seller  \\\n",
       "0                            4          226            21    7.212560e+06   \n",
       "1                            4          217            19    2.541343e+07   \n",
       "2                            4          226            21    7.212560e+06   \n",
       "3                            4          226            21    7.212560e+06   \n",
       "4                            4          196            21    1.523757e+06   \n",
       "...                        ...          ...           ...             ...   \n",
       "104583                       4          175            21    1.192416e+06   \n",
       "104584                       4           21            21    9.409114e+06   \n",
       "104585                       4          439            21    7.146834e+08   \n",
       "104586                       4          188            21    8.998065e+05   \n",
       "104587                       4          439            21    7.146834e+08   \n",
       "\n",
       "        atividade_mun_seller  product_category_name  product_photos_qty  \\\n",
       "0                          3                     55                 1.0   \n",
       "1                          2                     72                 3.0   \n",
       "2                          3                     55                 1.0   \n",
       "3                          3                     55                 1.0   \n",
       "4                          3                     14                 1.0   \n",
       "...                      ...                    ...                 ...   \n",
       "104583                     3                     48                 2.0   \n",
       "104584                     3                     32                 1.0   \n",
       "104585                     3                     11                 1.0   \n",
       "104586                     3                     66                 1.0   \n",
       "104587                     3                     62                 1.0   \n",
       "\n",
       "        payment_type  dias_entrega   price  freight_value  \n",
       "0                  1             8  124.99          21.88  \n",
       "1                  1            16  289.00          46.48  \n",
       "2                  1            26  139.94          17.79  \n",
       "3                  1            14  149.94          23.36  \n",
       "4                  1            11  230.00          22.25  \n",
       "...              ...           ...     ...            ...  \n",
       "104583             1             6   74.90          13.88  \n",
       "104584             1             7  114.90          14.16  \n",
       "104585             1            30   37.00          19.04  \n",
       "104586             1            12  689.00          22.07  \n",
       "104587             1             7   13.99           7.78  \n",
       "\n",
       "[104588 rows x 14 columns]"
      ]
     },
     "metadata": {},
     "output_type": "display_data"
    }
   ],
   "source": [
    "# variaveis preditoras\n",
    "\n",
    "X = df.drop(columns='review_score').copy()\n",
    "\n",
    "display(X)"
   ]
  },
  {
   "cell_type": "code",
   "execution_count": 10,
   "id": "sought-colonial",
   "metadata": {},
   "outputs": [
    {
     "data": {
      "text/plain": [
       "Index(['customer_city', 'customer_state', 'pib_mun_customer',\n",
       "       'atividade_mun_customer', 'seller_city', 'seller_state',\n",
       "       'pib_mun_seller', 'atividade_mun_seller', 'product_category_name',\n",
       "       'product_photos_qty', 'payment_type', 'dias_entrega', 'price',\n",
       "       'freight_value'],\n",
       "      dtype='object')"
      ]
     },
     "metadata": {},
     "output_type": "display_data"
    }
   ],
   "source": [
    "display(X.columns)"
   ]
  },
  {
   "cell_type": "markdown",
   "id": "suburban-three",
   "metadata": {},
   "source": [
    "## Separação dos dados de treinamento e dados de teste"
   ]
  },
  {
   "cell_type": "code",
   "execution_count": 11,
   "id": "european-arkansas",
   "metadata": {},
   "outputs": [
    {
     "name": "stdout",
     "output_type": "stream",
     "text": [
      "79.99961754694611\n"
     ]
    }
   ],
   "source": [
    "# separação da base de teste (20% do total de linhas) e da base de teste (80% do total de linhas)\n",
    "X_train,X_test,y_train,y_test = train_test_split(X,y,test_size=0.2, random_state = 11)\n",
    "\n",
    "print(len(X_train)/len(df)*100)"
   ]
  },
  {
   "cell_type": "code",
   "execution_count": 12,
   "id": "every-belly",
   "metadata": {},
   "outputs": [
    {
     "name": "stdout",
     "output_type": "stream",
     "text": [
      "(83670, 14)\n",
      "(20918, 14)\n"
     ]
    }
   ],
   "source": [
    "print(X_train.shape)\n",
    "print(X_test.shape)"
   ]
  },
  {
   "cell_type": "code",
   "execution_count": 13,
   "id": "floppy-death",
   "metadata": {},
   "outputs": [
    {
     "name": "stdout",
     "output_type": "stream",
     "text": [
      "(83670,)\n",
      "(20918,)\n"
     ]
    }
   ],
   "source": [
    "print(y_train.shape)\n",
    "print(y_test.shape)"
   ]
  },
  {
   "cell_type": "code",
   "execution_count": 14,
   "id": "artificial-enzyme",
   "metadata": {},
   "outputs": [
    {
     "data": {
      "image/png": "[encoded data removed]",
      "text/plain": [
       "<Figure size 1440x360 with 1 Axes>"
      ]
     },
     "metadata": {
      "needs_background": "light"
     },
     "output_type": "display_data"
    }
   ],
   "source": [
    "fig = plt.figure(figsize=(20,5))\n",
    "plt.title('Barplot de {}'.format('y_train'))\n",
    "y_train_series = y_train.value_counts()\n",
    "sns.barplot(x=y_train_series.index,y=y_train_series.values)\n",
    "plt.show()"
   ]
  },
  {
   "cell_type": "markdown",
   "id": "million-citation",
   "metadata": {},
   "source": [
    "## Balanceamento da base de treinamento através da técnima SMOTE"
   ]
  },
  {
   "cell_type": "code",
   "execution_count": 15,
   "id": "sonic-guest",
   "metadata": {},
   "outputs": [],
   "source": [
    "sm = SMOTE(random_state=10)\n",
    "\n",
    "X_train, y_train = sm.fit_resample(X_train,y_train)"
   ]
  },
  {
   "cell_type": "code",
   "execution_count": 16,
   "id": "otherwise-voice",
   "metadata": {},
   "outputs": [
    {
     "data": {
      "image/png": "[encoded data removed]",
      "text/plain": [
       "<Figure size 1440x360 with 1 Axes>"
      ]
     },
     "metadata": {
      "needs_background": "light"
     },
     "output_type": "display_data"
    }
   ],
   "source": [
    "fig = plt.figure(figsize=(20,5))\n",
    "plt.title('Barplot de {}'.format('y_train'))\n",
    "y_train_series = y_train.value_counts()\n",
    "sns.barplot(x=y_train_series.index,y=y_train_series.values)\n",
    "plt.show()"
   ]
  },
  {
   "cell_type": "markdown",
   "id": "harmful-newton",
   "metadata": {},
   "source": [
    "## Treinamento o modelo Arvore de Decisão e os resultados"
   ]
  },
  {
   "cell_type": "code",
   "execution_count": 17,
   "id": "forward-purple",
   "metadata": {},
   "outputs": [],
   "source": [
    "arvore_decisao = DecisionTreeClassifier(random_state=11)\n",
    "arvore_decisao = arvore_decisao.fit(X_train,y_train)\n",
    "y_pred_ad = arvore_decisao.predict(X_test)"
   ]
  },
  {
   "cell_type": "code",
   "execution_count": 18,
   "id": "egyptian-makeup",
   "metadata": {},
   "outputs": [],
   "source": [
    "def model_results(modelo,X_test,y_test,y_pred):\n",
    "    # confusion matrix\n",
    "\n",
    "    tn, fp, fn, tp = confusion_matrix(y_test,y_pred).ravel()\n",
    "    print('tn:',tn)\n",
    "    print('fp:',fp)\n",
    "    print('fn:',fn)\n",
    "    print('tp:',tp)\n",
    "\n",
    "    print('\\n')\n",
    "\n",
    "    print(confusion_matrix(y_test,y_pred))\n",
    "\n",
    "    print('\\n')\n",
    "\n",
    "    soma_pred_true = tp+fp+fn+tn\n",
    "\n",
    "    print('soma tp,fp,fn,tp: ', soma_pred_true)\n",
    "    print('len y_test: ',len(y_test))\n",
    "\n",
    "    plot_confusion_matrix(modelo,X_test,y_test, labels=[1,0], cmap='Blues')\n",
    "    plt.show()\n",
    "\n",
    "    # resultados com classification_report\n",
    "    print('classification report:','\\n', classification_report(y_test,y_pred))"
   ]
  },
  {
   "cell_type": "code",
   "execution_count": 19,
   "id": "threatened-transparency",
   "metadata": {},
   "outputs": [
    {
     "name": "stdout",
     "output_type": "stream",
     "text": [
      "tn: 2076\n",
      "fp: 2633\n",
      "fn: 3754\n",
      "tp: 12455\n",
      "\n",
      "\n",
      "[[ 2076  2633]\n",
      " [ 3754 12455]]\n",
      "\n",
      "\n",
      "soma tp,fp,fn,tp:  20918\n",
      "len y_test:  20918\n"
     ]
    },
    {
     "data": {
      "image/png": "[encoded data removed]",
      "text/plain": [
       "<Figure size 432x288 with 2 Axes>"
      ]
     },
     "metadata": {
      "needs_background": "light"
     },
     "output_type": "display_data"
    },
    {
     "name": "stdout",
     "output_type": "stream",
     "text": [
      "classification report: \n",
      "               precision    recall  f1-score   support\n",
      "\n",
      "           0       0.36      0.44      0.39      4709\n",
      "           1       0.83      0.77      0.80     16209\n",
      "\n",
      "    accuracy                           0.69     20918\n",
      "   macro avg       0.59      0.60      0.59     20918\n",
      "weighted avg       0.72      0.69      0.71     20918\n",
      "\n"
     ]
    }
   ],
   "source": [
    "model_results(arvore_decisao,X_test,y_test,y_pred_ad)"
   ]
  },
  {
   "cell_type": "code",
   "execution_count": 20,
   "id": "undefined-vanilla",
   "metadata": {},
   "outputs": [
    {
     "name": "stdout",
     "output_type": "stream",
     "text": [
      "profundidade da arovre de decisao: 41\n"
     ]
    }
   ],
   "source": [
    "# dados sobre a arvore de decisao\n",
    "\n",
    "print('profundidade da arovre de decisao:', arvore_decisao.get_depth())"
   ]
  },
  {
   "cell_type": "code",
   "execution_count": 21,
   "id": "instant-prerequisite",
   "metadata": {},
   "outputs": [],
   "source": [
    "# calculando o valor da profundidade que tem a melhor acuracia\n",
    "\n",
    "lista_resultado = []\n",
    "\n",
    "dt_depth = arvore_decisao.get_depth()\n",
    "\n",
    "for depth in range(1,dt_depth + 1):\n",
    "                      \n",
    "        classifier = DecisionTreeClassifier(max_depth=depth,random_state=11)\n",
    "        classifier = classifier.fit(X_train,y_train)\n",
    "        y_pred_func = classifier.predict(X_test)\n",
    "\n",
    "        # confusion matrix\n",
    "        tn, fp, fn, tp = confusion_matrix(y_test,y_pred_func).ravel()\n",
    "        \n",
    "        precision = np.round(tp/(tp+fp),2)\n",
    "        recall = np.round(tp/(tp+fn),2)\n",
    "        f_score = np.round((2*recall*precision)/(recall+precision),2)\n",
    "        \n",
    "        accuracy = accuracy_score(y_test,y_pred_func)\n",
    "                \n",
    "        lista_resultado.append([depth,precision,recall,f_score,accuracy])"
   ]
  },
  {
   "cell_type": "code",
   "execution_count": 22,
   "id": "appreciated-embassy",
   "metadata": {},
   "outputs": [
    {
     "data": {
      "text/html": [
       "<div>\n",
       "<style scoped>\n",
       "    .dataframe tbody tr th:only-of-type {\n",
       "        vertical-align: middle;\n",
       "    }\n",
       "\n",
       "    .dataframe tbody tr th {\n",
       "        vertical-align: top;\n",
       "    }\n",
       "\n",
       "    .dataframe thead th {\n",
       "        text-align: right;\n",
       "    }\n",
       "</style>\n",
       "<table border=\"1\" class=\"dataframe\">\n",
       "  <thead>\n",
       "    <tr style=\"text-align: right;\">\n",
       "      <th></th>\n",
       "      <th>max_depth</th>\n",
       "      <th>precision</th>\n",
       "      <th>recall</th>\n",
       "      <th>f_score</th>\n",
       "      <th>accuracy</th>\n",
       "    </tr>\n",
       "  </thead>\n",
       "  <tbody>\n",
       "    <tr>\n",
       "      <th>0</th>\n",
       "      <td>1</td>\n",
       "      <td>0.82</td>\n",
       "      <td>0.93</td>\n",
       "      <td>0.87</td>\n",
       "      <td>0.782962</td>\n",
       "    </tr>\n",
       "    <tr>\n",
       "      <th>11</th>\n",
       "      <td>12</td>\n",
       "      <td>0.82</td>\n",
       "      <td>0.88</td>\n",
       "      <td>0.85</td>\n",
       "      <td>0.755378</td>\n",
       "    </tr>\n",
       "    <tr>\n",
       "      <th>6</th>\n",
       "      <td>7</td>\n",
       "      <td>0.82</td>\n",
       "      <td>0.87</td>\n",
       "      <td>0.84</td>\n",
       "      <td>0.748255</td>\n",
       "    </tr>\n",
       "    <tr>\n",
       "      <th>10</th>\n",
       "      <td>11</td>\n",
       "      <td>0.82</td>\n",
       "      <td>0.86</td>\n",
       "      <td>0.84</td>\n",
       "      <td>0.745817</td>\n",
       "    </tr>\n",
       "    <tr>\n",
       "      <th>8</th>\n",
       "      <td>9</td>\n",
       "      <td>0.82</td>\n",
       "      <td>0.86</td>\n",
       "      <td>0.84</td>\n",
       "      <td>0.745482</td>\n",
       "    </tr>\n",
       "  </tbody>\n",
       "</table>\n",
       "</div>"
      ],
      "text/plain": [
       "    max_depth  precision  recall  f_score  accuracy\n",
       "0           1       0.82    0.93     0.87  0.782962\n",
       "11         12       0.82    0.88     0.85  0.755378\n",
       "6           7       0.82    0.87     0.84  0.748255\n",
       "10         11       0.82    0.86     0.84  0.745817\n",
       "8           9       0.82    0.86     0.84  0.745482"
      ]
     },
     "metadata": {},
     "output_type": "display_data"
    }
   ],
   "source": [
    "df_resultados_pruning = pd.DataFrame(lista_resultado,columns=['max_depth','precision','recall','f_score','accuracy'])\n",
    "display(df_resultados_pruning.sort_values(by=['accuracy'],ascending=[False]).head())"
   ]
  },
  {
   "cell_type": "code",
   "execution_count": 23,
   "id": "atlantic-quantity",
   "metadata": {},
   "outputs": [
    {
     "name": "stdout",
     "output_type": "stream",
     "text": [
      "tn: 1550\n",
      "fp: 3159\n",
      "fn: 1958\n",
      "tp: 14251\n",
      "\n",
      "\n",
      "[[ 1550  3159]\n",
      " [ 1958 14251]]\n",
      "\n",
      "\n",
      "soma tp,fp,fn,tp:  20918\n",
      "len y_test:  20918\n"
     ]
    },
    {
     "data": {
      "image/png": "[encoded data removed]",
      "text/plain": [
       "<Figure size 432x288 with 2 Axes>"
      ]
     },
     "metadata": {
      "needs_background": "light"
     },
     "output_type": "display_data"
    },
    {
     "name": "stdout",
     "output_type": "stream",
     "text": [
      "classification report: \n",
      "               precision    recall  f1-score   support\n",
      "\n",
      "           0       0.44      0.33      0.38      4709\n",
      "           1       0.82      0.88      0.85     16209\n",
      "\n",
      "    accuracy                           0.76     20918\n",
      "   macro avg       0.63      0.60      0.61     20918\n",
      "weighted avg       0.73      0.76      0.74     20918\n",
      "\n"
     ]
    }
   ],
   "source": [
    "arvore_decisao_1 = DecisionTreeClassifier(max_depth=12,random_state=11)\n",
    "arvore_decisao_1 = arvore_decisao_1.fit(X_train,y_train)\n",
    "y_pred_1 = arvore_decisao_1.predict(X_test)\n",
    "\n",
    "model_results(arvore_decisao_1,X_test,y_test,y_pred_1)"
   ]
  },
  {
   "cell_type": "markdown",
   "id": "baking-canyon",
   "metadata": {},
   "source": [
    "## Treinamento o modelo Random Forest e os resultados"
   ]
  },
  {
   "cell_type": "code",
   "execution_count": 24,
   "id": "alert-junction",
   "metadata": {},
   "outputs": [],
   "source": [
    "rf = RandomForestClassifier(random_state=11)\n",
    "rf = rf.fit(X_train,y_train)\n",
    "y_pred_rf = rf.predict(X_test)"
   ]
  },
  {
   "cell_type": "code",
   "execution_count": 25,
   "id": "technological-integral",
   "metadata": {},
   "outputs": [
    {
     "name": "stdout",
     "output_type": "stream",
     "text": [
      "tn: 1812\n",
      "fp: 2897\n",
      "fn: 1784\n",
      "tp: 14425\n",
      "\n",
      "\n",
      "[[ 1812  2897]\n",
      " [ 1784 14425]]\n",
      "\n",
      "\n",
      "soma tp,fp,fn,tp:  20918\n",
      "len y_test:  20918\n"
     ]
    },
    {
     "data": {
      "image/png": "[encoded data removed]",
      "text/plain": [
       "<Figure size 432x288 with 2 Axes>"
      ]
     },
     "metadata": {
      "needs_background": "light"
     },
     "output_type": "display_data"
    },
    {
     "name": "stdout",
     "output_type": "stream",
     "text": [
      "classification report: \n",
      "               precision    recall  f1-score   support\n",
      "\n",
      "           0       0.50      0.38      0.44      4709\n",
      "           1       0.83      0.89      0.86     16209\n",
      "\n",
      "    accuracy                           0.78     20918\n",
      "   macro avg       0.67      0.64      0.65     20918\n",
      "weighted avg       0.76      0.78      0.76     20918\n",
      "\n"
     ]
    }
   ],
   "source": [
    "model_results(rf,X_test,y_test,y_pred_rf)"
   ]
  }
 ],
 "metadata": {
  "kernelspec": {
   "display_name": "Python 3",
   "language": "python",
   "name": "python3"
  },
  "language_info": {
   "codemirror_mode": {
    "name": "ipython",
    "version": 3
   },
   "file_extension": ".py",
   "mimetype": "text/x-python",
   "name": "python",
   "nbconvert_exporter": "python",
   "pygments_lexer": "ipython3",
   "version": "3.8.8"
  }
 },
 "nbformat": 4,
 "nbformat_minor": 5
}
